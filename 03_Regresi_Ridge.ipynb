{
 "cells": [
  {
   "cell_type": "markdown",
   "metadata": {},
   "source": [
    "[Mari berteman untuk memperluas jaringan Anda dan raih peluang tak terduga tanpa batas!](https://www.linkedin.com/in/yusuf-alma)\n",
    "# <center>Ridge Linear Regression</center>\n",
    "### - Model prediksinya = model *ordinary least square*.\n",
    "### - Disamping prediksi yang bagus, koefisien w dipilih sekecil mungkin (mendekati 0) supaya *fit* pada kendala tambahan.\n",
    "### - Pembatasan model untuk menghindari *overfitting* demikian disebut *regularization*.\n",
    "### - Regresi Ridge memakai *regularization* L2.\n",
    "### - Seberapa penting kinerja model dibandingkan kinerja *training set* diatur dengan parameter `alpha` (default = 1), dimana penambahan `alpha` memaksa koefisien mendekati 0, yang berarti mengurangi kinerja *training set* tetapi membantu *generalization*."
   ]
  },
  {
   "cell_type": "markdown",
   "metadata": {},
   "source": [
    "## Memuat Library"
   ]
  },
  {
   "cell_type": "code",
   "execution_count": null,
   "metadata": {},
   "outputs": [],
   "source": [
    "import matplotlib\n",
    "matplotlib.use('nbagg')\n",
    "import numpy as np\n",
    "import pandas as pd\n",
    "import matplotlib.pyplot as plt\n",
    "%matplotlib inline"
   ]
  },
  {
   "cell_type": "markdown",
   "metadata": {},
   "source": [
    "## Memuat Dataset"
   ]
  },
  {
   "cell_type": "code",
   "execution_count": null,
   "metadata": {
    "scrolled": false
   },
   "outputs": [],
   "source": [
    "df = pd.read_csv('FuelConsumptionCo2.csv')\n",
    "df.head()"
   ]
  },
  {
   "cell_type": "markdown",
   "metadata": {},
   "source": [
    "## Statistik Deskriptif"
   ]
  },
  {
   "cell_type": "code",
   "execution_count": null,
   "metadata": {},
   "outputs": [],
   "source": [
    "df.describe()"
   ]
  },
  {
   "cell_type": "markdown",
   "metadata": {},
   "source": [
    "## Dataset: Train Set dan Test Set"
   ]
  },
  {
   "cell_type": "code",
   "execution_count": null,
   "metadata": {},
   "outputs": [],
   "source": [
    "from sklearn.model_selection import train_test_split\n",
    "X_train, X_test, y_train, y_test = train_test_split(df[['ENGINESIZE']], df['CO2EMISSIONS'], random_state=0)"
   ]
  },
  {
   "cell_type": "markdown",
   "metadata": {},
   "source": [
    "## Menjalankan Algoritma"
   ]
  },
  {
   "cell_type": "code",
   "execution_count": null,
   "metadata": {},
   "outputs": [],
   "source": [
    "from sklearn.linear_model import Ridge\n",
    "fig, ax = plt.subplots()\n",
    "rdg = Ridge()\n",
    "rdg.fit(X_train, y_train)\n",
    "ax.plot(X_train, rdg.coef_*X_train+rdg.intercept_)\n",
    "ax.plot(X_train, y_train, '^', markersize=5)\n",
    "ax.plot(X_test, y_test, 'v', markersize=5)\n",
    "ax.set_title(\"Ridge Regression\\ntrain score: {:.2f} test score: {:.2f}\"\n",
    "             .format(rdg.score(X_train, y_train), rdg.score(X_test, y_test)))\n",
    "ax.set_xlabel(\"Feature: Engine Size\")\n",
    "ax.set_ylabel(\"Target: CO2 Emissions\")\n",
    "ax.legend([\"Model predictions\", \"Training data/target\",\n",
    "                \"Test data/target\"], loc=\"best\")\n",
    "plt.show()"
   ]
  },
  {
   "cell_type": "code",
   "execution_count": null,
   "metadata": {},
   "outputs": [],
   "source": [
    "ridge10 = Ridge(alpha=10).fit(X_train, y_train)\n",
    "print(\"Training set score: {:.2f}\".format(ridge10.score(X_train, y_train)))\n",
    "print(\"Test set score: {:.2f}\".format(ridge10.score(X_test, y_test)))"
   ]
  },
  {
   "cell_type": "code",
   "execution_count": null,
   "metadata": {},
   "outputs": [],
   "source": []
  }
 ],
 "metadata": {
  "kernelspec": {
   "display_name": "Python 3",
   "language": "python",
   "name": "python3"
  },
  "language_info": {
   "codemirror_mode": {
    "name": "ipython",
    "version": 3
   },
   "file_extension": ".py",
   "mimetype": "text/x-python",
   "name": "python",
   "nbconvert_exporter": "python",
   "pygments_lexer": "ipython3",
   "version": "3.7.4"
  }
 },
 "nbformat": 4,
 "nbformat_minor": 2
}
