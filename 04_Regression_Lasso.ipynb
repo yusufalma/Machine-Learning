{
 "cells": [
  {
   "cell_type": "code",
   "execution_count": null,
   "metadata": {},
   "outputs": [],
   "source": [
    "import matplotlib\n",
    "matplotlib.use('nbagg')\n",
    "print(matplotlib.get_backend())"
   ]
  },
  {
   "cell_type": "code",
   "execution_count": null,
   "metadata": {},
   "outputs": [],
   "source": [
    "import numpy as np\n",
    "import pandas as pd\n",
    "import matplotlib.pyplot as plt\n",
    "#from sklearn import preprocessing\n",
    "%matplotlib inline"
   ]
  },
  {
   "cell_type": "code",
   "execution_count": null,
   "metadata": {
    "scrolled": false
   },
   "outputs": [],
   "source": [
    "df = pd.read_csv('FuelConsumptionCo2.csv')\n",
    "df.head()"
   ]
  },
  {
   "cell_type": "code",
   "execution_count": null,
   "metadata": {},
   "outputs": [],
   "source": [
    "df.describe()"
   ]
  },
  {
   "cell_type": "code",
   "execution_count": null,
   "metadata": {},
   "outputs": [],
   "source": [
    "X = df[['ENGINESIZE']]\n",
    "y = df.iloc[:,-1]\n",
    "#X = preprocessing.StandardScaler().fit(X).transform(X.astype(float))\n",
    "from sklearn.model_selection import train_test_split\n",
    "X_train, X_test, y_train, y_test = train_test_split(X, y, random_state=0)"
   ]
  },
  {
   "cell_type": "code",
   "execution_count": null,
   "metadata": {},
   "outputs": [],
   "source": [
    "from sklearn.linear_model import Lasso\n",
    "alfa = [1, 0.1, 0.01]\n",
    "train_score = []\n",
    "test_score = []\n",
    "for a in alfa:\n",
    "    lasso = Lasso(alpha=a, max_iter=100000).fit(X_train, y_train)\n",
    "    train_score.append(lasso.score(X_train, y_train))\n",
    "    test_score.append(lasso.score(X_test, y_test))\n",
    "    print(\"Lasso Regression\\nalpha: {:.2f} train score: {:.2f} test score: {:.2f} Number of features used: {:.2f}\"\n",
    "          .format(a, lasso.score(X_train, y_train), lasso.score(X_test, y_test), np.sum(lasso.coef_ != 0)))\n",
    "#fig, ax = plt.subplots()   \n",
    "#ax.plot(X_train, lasso.coef_*X_train+lasso.intercept_)\n",
    "#ax.plot(X_train, y_train, '^', markersize=5)\n",
    "#ax.plot(X_test, y_test, 'v', markersize=5)\n",
    "#ax.set_title(\"Lasso Regression\\ntrain score: {:.2f} test score: {:.2f}\"\n",
    "#             .format(lasso.score(X_train, y_train), lasso.score(X_test, y_test)))\n",
    "#ax.set_xlabel(\"Feature: Engine Size\")\n",
    "#ax.set_ylabel(\"Target: CO2 Emissions\")\n",
    "#ax.legend([\"Model predictions\", \"Training data/target\",\n",
    "#                \"Test data/target\"], loc=\"best\")\n",
    "#plt.show()"
   ]
  },
  {
   "cell_type": "code",
   "execution_count": null,
   "metadata": {},
   "outputs": [],
   "source": []
  }
 ],
 "metadata": {
  "kernelspec": {
   "display_name": "Python 3",
   "language": "python",
   "name": "python3"
  },
  "language_info": {
   "codemirror_mode": {
    "name": "ipython",
    "version": 3
   },
   "file_extension": ".py",
   "mimetype": "text/x-python",
   "name": "python",
   "nbconvert_exporter": "python",
   "pygments_lexer": "ipython3",
   "version": "3.7.4"
  }
 },
 "nbformat": 4,
 "nbformat_minor": 2
}
