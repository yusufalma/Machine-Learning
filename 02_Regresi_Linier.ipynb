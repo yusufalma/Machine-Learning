{
 "cells": [
  {
   "cell_type": "markdown",
   "metadata": {},
   "source": [
    "[Mari berteman untuk memperluas jaringan Anda dan raih peluang tak terduga tanpa batas!](https://www.linkedin.com/in/yusuf-alma)\n",
    "# <center>Linear Regression</center>\n",
    "### - Algoritma *machine learning* yang paling sering dipakai.\n",
    "### - Disebut juga *ordinary least square*, merupakan metode regresi linier paling sederhana dan klasik.\n",
    "### - Model linier untuk prediksi nilai:<br>&emsp;$ŷ = w[0] * x[0] + w[1] * x[1] + ... + w[p] * x[p] + b$<p>&emsp;dimana<br>&emsp;x[0] sampai x[p] adalah fitur (jumlah fitur = p+1)<br>&emsp;w[0] sampai w[p] adalah kemiringan tiap sumbu fitur<br>&emsp;b adalah perpotongan di sumbu y<br>&emsp;ŷ adalah nilai prediksi</p>\n",
    "### - Parameter kemiringan (w), disebut juga bobot atau koefisien, tersimpan di atribut `coef_`.\n",
    "### - Parameter perpotongan (b) tersimpan di atribut `intercept_`."
   ]
  },
  {
   "cell_type": "markdown",
   "metadata": {},
   "source": [
    "## Memuat Library"
   ]
  },
  {
   "cell_type": "code",
   "execution_count": null,
   "metadata": {},
   "outputs": [],
   "source": [
    "import matplotlib\n",
    "matplotlib.use('nbagg')\n",
    "import numpy as np\n",
    "import pandas as pd\n",
    "import matplotlib.pyplot as plt\n",
    "%matplotlib inline"
   ]
  },
  {
   "cell_type": "markdown",
   "metadata": {},
   "source": [
    "## Memuat Dataset"
   ]
  },
  {
   "cell_type": "code",
   "execution_count": null,
   "metadata": {
    "scrolled": false
   },
   "outputs": [],
   "source": [
    "df = pd.read_csv('FuelConsumptionCo2.csv')\n",
    "df.head()"
   ]
  },
  {
   "cell_type": "markdown",
   "metadata": {},
   "source": [
    "## Statistik Deskriptif"
   ]
  },
  {
   "cell_type": "code",
   "execution_count": null,
   "metadata": {},
   "outputs": [],
   "source": [
    "df.describe()"
   ]
  },
  {
   "cell_type": "markdown",
   "metadata": {},
   "source": [
    "## Dataset: Train Set dan Test Set"
   ]
  },
  {
   "cell_type": "code",
   "execution_count": null,
   "metadata": {},
   "outputs": [],
   "source": [
    "from sklearn.model_selection import train_test_split\n",
    "X_train, X_test, y_train, y_test = train_test_split(df[['ENGINESIZE']], df['CO2EMISSIONS'], random_state=0)"
   ]
  },
  {
   "cell_type": "markdown",
   "metadata": {},
   "source": [
    "## Menjalankan Algoritma"
   ]
  },
  {
   "cell_type": "code",
   "execution_count": null,
   "metadata": {},
   "outputs": [],
   "source": [
    "from sklearn.linear_model import LinearRegression\n",
    "fig, ax = plt.subplots()\n",
    "lr = LinearRegression()\n",
    "lr.fit(X_train, y_train)\n",
    "ax.plot(X_train, lr.coef_*X_train+lr.intercept_)\n",
    "ax.plot(X_train, y_train, '^', markersize=5)\n",
    "ax.plot(X_test, y_test, 'v', markersize=5)\n",
    "ax.set_title(\"Linear Regression\\ntrain score: {:.2f} test score: {:.2f}\"\n",
    "             .format(lr.score(X_train, y_train), lr.score(X_test, y_test)))\n",
    "ax.set_xlabel(\"Feature: Engine Size\")\n",
    "ax.set_ylabel(\"Target: CO2 Emissions\")\n",
    "ax.legend([\"Model predictions\", \"Training data/target\",\n",
    "                \"Test data/target\"], loc=\"best\")\n",
    "plt.show()"
   ]
  },
  {
   "cell_type": "markdown",
   "metadata": {},
   "source": [
    "## Latihan\n",
    "Buat 4 model algoritma Linear Regression untuk memprediksi respon (Y) `CO2EMISSIONS`, masing-masing dengan fitur (X) `FUELCONSUMPTION_CITY, FUELCONSUMPTION_HWY, FUELCONSUMPTION_COMB, FUELCONSUMPTION_COMB_MPG`"
   ]
  }
 ],
 "metadata": {
  "kernelspec": {
   "display_name": "Python 3",
   "language": "python",
   "name": "python3"
  },
  "language_info": {
   "codemirror_mode": {
    "name": "ipython",
    "version": 3
   },
   "file_extension": ".py",
   "mimetype": "text/x-python",
   "name": "python",
   "nbconvert_exporter": "python",
   "pygments_lexer": "ipython3",
   "version": "3.7.4"
  }
 },
 "nbformat": 4,
 "nbformat_minor": 2
}
